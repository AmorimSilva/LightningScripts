{
  "nbformat": 4,
  "nbformat_minor": 0,
  "metadata": {
    "colab": {
      "provenance": []
    },
    "kernelspec": {
      "name": "python3",
      "display_name": "Python 3"
    },
    "language_info": {
      "name": "python"
    }
  },
  "cells": [
    {
      "cell_type": "markdown",
      "source": [
        "# **Relâmpagos**\n",
        "Este script faz o donwload de relâmpagos acumulado pelo tempo desejado e move-o para o seu drive.\n",
        "\n",
        "*   Os dados sãoinseridos no site do CPTEC em quase tempo real (https://ftp.cptec.inpe.br/goes/goes16/goes16_web/glm_acumulado_nc/)\n",
        "*   Tempo = UTC (3 horas a mais comparado ao horário local brasileiro)\n",
        "\n",
        "\n",
        "\n",
        "Script desensolvido para o projeto de tese que visa analisar a metodologia de `lightningjump` no estado do ceará com dados de pluviometros da Funceme e dados de relâmpagos do GLM\n",
        "\n",
        "Autor: Samuel Amorim Silva (2024)\n"
      ],
      "metadata": {
        "id": "4SCwvJbL33BB"
      }
    },
    {
      "cell_type": "code",
      "source": [
        "import xarray as xr\n",
        "from datetime import datetime\n",
        "import pandas as pd\n",
        "import os\n",
        "import time\n",
        "import warnings\n",
        "warnings.filterwarnings(\"ignore\")"
      ],
      "metadata": {
        "id": "RNiXZxB62ZJ5"
      },
      "execution_count": 7,
      "outputs": []
    },
    {
      "cell_type": "code",
      "source": [
        "from google.colab import drive\n",
        "drive.mount('/content/drive')"
      ],
      "metadata": {
        "colab": {
          "base_uri": "https://localhost:8080/"
        },
        "id": "isyICFmV2Zf3",
        "outputId": "925d999a-963a-4c79-8d24-63ce657d9bda"
      },
      "execution_count": 8,
      "outputs": [
        {
          "output_type": "stream",
          "name": "stdout",
          "text": [
            "Drive already mounted at /content/drive; to attempt to forcibly remount, call drive.mount(\"/content/drive\", force_remount=True).\n"
          ]
        }
      ]
    },
    {
      "cell_type": "code",
      "source": [
        "dir = '/content/drive/MyDrive/casostese/caso02/'\n",
        "\n",
        "os.makedirs(f'{dir}', exist_ok=True)"
      ],
      "metadata": {
        "id": "2vTFEMg820Il"
      },
      "execution_count": 9,
      "outputs": []
    },
    {
      "cell_type": "code",
      "source": [
        "def download_GLM5min_CPTEC(ano, mes, dia, hor, min, dir):\n",
        "\n",
        "    print('.... Baixando dado ===>', 'DATA=', ano, mes, dia, hor, min)\n",
        "\n",
        "    # caminho do ftp do cptec\n",
        "    ftp_cptec_glm_5min = 'http://ftp.cptec.inpe.br/goes/goes16/goes16_web/glm_acumulado_nc/'\n",
        "\n",
        "    # código do produto\n",
        "    codigo_produto = 'S11635949'\n",
        "\n",
        "    # nome do arquivo\n",
        "    file_glm5min_cptec =  f'{ftp_cptec_glm_5min}{ano}/{mes}/{codigo_produto}_{ano}{mes}{dia}{hor}{min}.nc' # S11635949_202209010000.nc\n",
        "\n",
        "    # baixando a imagem de satélite\n",
        "    !wget -c {file_glm5min_cptec} -P {dir}\n",
        "\n",
        "    # local da imagem que foi baixada\n",
        "    file_glm_download = f'/content/{codigo_produto}_{ano}{mes}{dia}{hor}{min}.nc'\n",
        "\n",
        "    return file_glm_download"
      ],
      "metadata": {
        "id": "Lo1ctOmY2aqf"
      },
      "execution_count": 10,
      "outputs": []
    },
    {
      "cell_type": "code",
      "source": [
        "# define ano, mês,dia, hora, minuto\n",
        "anoi, mesi, diai, horai, mini = '2023', '02', '06','00', '00'\n",
        "anof, mesf, diaf, horaf, minf = '2023', '02', '06','00', '10'\n",
        "\n",
        "mesi_name, mesf_name = 'fevereiro', 'fevereiro'\n",
        "\n",
        "\n",
        "# Limites do Brasil ( Caso sua pesquisa seja para áreas foras do territorio brasileiro, altere aqui)\n",
        "lonmin, lonmax, latmin, latmax = -75.0, -33.0, -35.0, 7.0\n",
        "\n",
        "# selecina a extensão da imagem [min. lon, min. lat, max. lon, max. lat]\n",
        "extent = [lonmin, latmin, lonmax, latmax]"
      ],
      "metadata": {
        "id": "5ampMC4v2cJb"
      },
      "execution_count": 11,
      "outputs": []
    },
    {
      "cell_type": "code",
      "source": [
        "%%time\n",
        "\n",
        "# Define as datas inicial e final\n",
        "start_date = datetime(int(anoi), int(mesi), int(diai), int(horai), int(mini))\n",
        "start_str = start_date.strftime('%Y%m%d%H%M')\n",
        "\n",
        "end_date = datetime(int(anof), int(mesf), int(diaf), int(horaf), int(minf))\n",
        "end_str = end_date.strftime('%Y%m%d%H%M')\n",
        "\n",
        "print('.... Iniciando o Processamento de Dados ...:', start_str, end_str, '\\n')\n",
        "\n",
        "# Lista para armazenar os arquivos de imagens\n",
        "image_files = []\n",
        "for current_time in pd.date_range(start_str, end_str, freq='5min'):\n",
        "\n",
        "    # Obtém ano, mês, dia, hora e minuto\n",
        "    current_str = current_time.strftime('%Y%m%d%H%M')\n",
        "    year = current_time.strftime('%Y')\n",
        "    month = current_time.strftime('%m')\n",
        "    day = current_time.strftime('%d')\n",
        "    hour = current_time.strftime('%H')\n",
        "    minute = current_time.strftime('%M')\n",
        "\n",
        "    # Faz o download da imagem de satélite\n",
        "    downloaded_file = download_GLM5min_CPTEC(year, month, day, hour, minute, dir)\n",
        "\n",
        "    # Adiciona o nome do arquivo baixado à lista\n",
        "    image_files.append(downloaded_file)\n"
      ],
      "metadata": {
        "colab": {
          "base_uri": "https://localhost:8080/"
        },
        "id": "z2ZA1axV2fxa",
        "outputId": "e40fac8e-7c48-4806-95a0-603b80489c76"
      },
      "execution_count": 12,
      "outputs": [
        {
          "output_type": "stream",
          "name": "stdout",
          "text": [
            ".... Iniciando o Processamento de Dados ...: 202302060000 202302060010 \n",
            "\n",
            ".... Baixando dado ===> DATA= 2023 02 06 00 00\n",
            "--2024-09-10 21:43:39--  http://ftp.cptec.inpe.br/goes/goes16/goes16_web/glm_acumulado_nc/2023/02/S11635949_202302060000.nc\n",
            "Resolving ftp.cptec.inpe.br (ftp.cptec.inpe.br)... 150.163.192.38\n",
            "Connecting to ftp.cptec.inpe.br (ftp.cptec.inpe.br)|150.163.192.38|:80... connected.\n",
            "HTTP request sent, awaiting response... 301 Moved Permanently\n",
            "Location: https://ftp.cptec.inpe.br/goes/goes16/goes16_web/glm_acumulado_nc/2023/02/S11635949_202302060000.nc [following]\n",
            "--2024-09-10 21:43:40--  https://ftp.cptec.inpe.br/goes/goes16/goes16_web/glm_acumulado_nc/2023/02/S11635949_202302060000.nc\n",
            "Connecting to ftp.cptec.inpe.br (ftp.cptec.inpe.br)|150.163.192.38|:443... connected.\n",
            "HTTP request sent, awaiting response... 200 OK\n",
            "Length: 207510 (203K) [application/x-netcdf]\n",
            "Saving to: ‘/content/drive/MyDrive/casostese/caso02/S11635949_202302060000.nc’\n",
            "\n",
            "S11635949_202302060 100%[===================>] 202.65K   296KB/s    in 0.7s    \n",
            "\n",
            "2024-09-10 21:43:41 (296 KB/s) - ‘/content/drive/MyDrive/casostese/caso02/S11635949_202302060000.nc’ saved [207510/207510]\n",
            "\n",
            ".... Baixando dado ===> DATA= 2023 02 06 00 05\n",
            "--2024-09-10 21:43:41--  http://ftp.cptec.inpe.br/goes/goes16/goes16_web/glm_acumulado_nc/2023/02/S11635949_202302060005.nc\n",
            "Resolving ftp.cptec.inpe.br (ftp.cptec.inpe.br)... 150.163.192.38\n",
            "Connecting to ftp.cptec.inpe.br (ftp.cptec.inpe.br)|150.163.192.38|:80... connected.\n",
            "HTTP request sent, awaiting response... 301 Moved Permanently\n",
            "Location: https://ftp.cptec.inpe.br/goes/goes16/goes16_web/glm_acumulado_nc/2023/02/S11635949_202302060005.nc [following]\n",
            "--2024-09-10 21:43:41--  https://ftp.cptec.inpe.br/goes/goes16/goes16_web/glm_acumulado_nc/2023/02/S11635949_202302060005.nc\n",
            "Connecting to ftp.cptec.inpe.br (ftp.cptec.inpe.br)|150.163.192.38|:443... connected.\n",
            "HTTP request sent, awaiting response... 200 OK\n",
            "Length: 203003 (198K) [application/x-netcdf]\n",
            "Saving to: ‘/content/drive/MyDrive/casostese/caso02/S11635949_202302060005.nc’\n",
            "\n",
            "S11635949_202302060 100%[===================>] 198.25K   293KB/s    in 0.7s    \n",
            "\n",
            "2024-09-10 21:43:43 (293 KB/s) - ‘/content/drive/MyDrive/casostese/caso02/S11635949_202302060005.nc’ saved [203003/203003]\n",
            "\n",
            ".... Baixando dado ===> DATA= 2023 02 06 00 10\n",
            "--2024-09-10 21:43:43--  http://ftp.cptec.inpe.br/goes/goes16/goes16_web/glm_acumulado_nc/2023/02/S11635949_202302060010.nc\n",
            "Resolving ftp.cptec.inpe.br (ftp.cptec.inpe.br)... 150.163.192.38\n",
            "Connecting to ftp.cptec.inpe.br (ftp.cptec.inpe.br)|150.163.192.38|:80... connected.\n",
            "HTTP request sent, awaiting response... 301 Moved Permanently\n",
            "Location: https://ftp.cptec.inpe.br/goes/goes16/goes16_web/glm_acumulado_nc/2023/02/S11635949_202302060010.nc [following]\n",
            "--2024-09-10 21:43:43--  https://ftp.cptec.inpe.br/goes/goes16/goes16_web/glm_acumulado_nc/2023/02/S11635949_202302060010.nc\n",
            "Connecting to ftp.cptec.inpe.br (ftp.cptec.inpe.br)|150.163.192.38|:443... connected.\n",
            "HTTP request sent, awaiting response... 200 OK\n",
            "Length: 199715 (195K) [application/x-netcdf]\n",
            "Saving to: ‘/content/drive/MyDrive/casostese/caso02/S11635949_202302060010.nc’\n",
            "\n",
            "S11635949_202302060 100%[===================>] 195.03K   287KB/s    in 0.7s    \n",
            "\n",
            "2024-09-10 21:43:45 (287 KB/s) - ‘/content/drive/MyDrive/casostese/caso02/S11635949_202302060010.nc’ saved [199715/199715]\n",
            "\n",
            "CPU times: user 114 ms, sys: 3.75 ms, total: 118 ms\n",
            "Wall time: 5.67 s\n"
          ]
        }
      ]
    }
  ]
}